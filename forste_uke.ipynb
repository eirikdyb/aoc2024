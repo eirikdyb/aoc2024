{
 "cells": [
  {
   "cell_type": "code",
   "execution_count": 27,
   "metadata": {},
   "outputs": [
    {
     "name": "stdout",
     "output_type": "stream",
     "text": [
      "2742123\n",
      "21328497\n"
     ]
    }
   ],
   "source": [
    "def readfile():\n",
    "    left = []\n",
    "    right = []\n",
    "    with open(\"input.txt\",'r') as content:\n",
    "        for line in content:\n",
    "            split = line.split()\n",
    "            left.append(int(split[0]))\n",
    "            right.append(int(split[1]))\n",
    "    left.sort()\n",
    "    right.sort()\n",
    "    \n",
    "    return left,right\n",
    "\n",
    "def tot_distance(left,right):\n",
    "    diff_sum = 0\n",
    "    for i in range(len(left)):\n",
    "        diff_sum += abs(left[i] - right[i])\n",
    "\n",
    "    return diff_sum\n",
    "\n",
    "def sim_score(left,right):\n",
    "    count_dict = {}\n",
    "    simu_score = 0\n",
    "    \n",
    "    for i in range(len(right)):\n",
    "        if right[i] not in count_dict:\n",
    "            count_dict[right[i]] = 1\n",
    "        else:\n",
    "            count_dict[right[i]] += 1\n",
    "    \n",
    "    for i in range(len(left)):\n",
    "        if left[i] not in count_dict:\n",
    "            simu_score += left[i]*0\n",
    "        else: \n",
    "            simu_score += left[i]*count_dict[left[i]]\n",
    "        \n",
    "    return simu_score\n",
    "                \n",
    "\n",
    "def main():\n",
    "    left, right = readfile()\n",
    "    diff_sum = tot_distance(left,right)\n",
    "    print(diff_sum)\n",
    "    sim = sim_score(left,right)\n",
    "    print(sim)\n",
    "\n",
    "main()"
   ]
  },
  {
   "cell_type": "code",
   "execution_count": null,
   "metadata": {},
   "outputs": [],
   "source": []
  }
 ],
 "metadata": {
  "kernelspec": {
   "display_name": "Python 3",
   "language": "python",
   "name": "python3"
  },
  "language_info": {
   "codemirror_mode": {
    "name": "ipython",
    "version": 3
   },
   "file_extension": ".py",
   "mimetype": "text/x-python",
   "name": "python",
   "nbconvert_exporter": "python",
   "pygments_lexer": "ipython3",
   "version": "3.8.5"
  }
 },
 "nbformat": 4,
 "nbformat_minor": 4
}
